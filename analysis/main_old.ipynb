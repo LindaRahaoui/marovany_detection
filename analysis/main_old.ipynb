{
 "cells": [
  {
   "cell_type": "code",
   "execution_count": 8,
   "metadata": {
    "colab": {
     "base_uri": "https://localhost:8080/"
    },
    "executionInfo": {
     "elapsed": 35750,
     "status": "ok",
     "timestamp": 1658233140154,
     "user": {
      "displayName": "Dorian Cazau",
      "userId": "08552727308627398808"
     },
     "user_tz": -120
    },
    "id": "tMC0t8O5sDXn",
    "outputId": "b95e8dc1-1e78-4905-e067-7f1861ec26ca",
    "scrolled": true
   },
   "outputs": [
    {
     "name": "stdout",
     "output_type": "stream",
     "text": [
      "Requirement already satisfied: matplotlib in c:\\users\\admin\\miniconda3\\lib\\site-packages (3.5.2)\n",
      "Requirement already satisfied: packaging>=20.0 in c:\\users\\admin\\miniconda3\\lib\\site-packages (from matplotlib) (21.3)\n",
      "Requirement already satisfied: pyparsing>=2.2.1 in c:\\users\\admin\\miniconda3\\lib\\site-packages (from matplotlib) (3.0.4)\n",
      "Requirement already satisfied: pillow>=6.2.0 in c:\\users\\admin\\miniconda3\\lib\\site-packages (from matplotlib) (9.2.0)\n",
      "Requirement already satisfied: python-dateutil>=2.7 in c:\\users\\admin\\miniconda3\\lib\\site-packages (from matplotlib) (2.8.2)\n",
      "Requirement already satisfied: fonttools>=4.22.0 in c:\\users\\admin\\miniconda3\\lib\\site-packages (from matplotlib) (4.34.4)\n",
      "Requirement already satisfied: numpy>=1.17 in c:\\users\\admin\\miniconda3\\lib\\site-packages (from matplotlib) (1.22.4)\n",
      "Requirement already satisfied: cycler>=0.10 in c:\\users\\admin\\miniconda3\\lib\\site-packages (from matplotlib) (0.11.0)\n",
      "Requirement already satisfied: kiwisolver>=1.0.1 in c:\\users\\admin\\miniconda3\\lib\\site-packages (from matplotlib) (1.4.4)\n",
      "Requirement already satisfied: six>=1.5 in c:\\users\\admin\\miniconda3\\lib\\site-packages (from python-dateutil>=2.7->matplotlib) (1.16.0)\n",
      "Requirement already satisfied: numpy in c:\\users\\admin\\miniconda3\\lib\\site-packages (1.22.4)\n",
      "Requirement already satisfied: librosa in c:\\users\\admin\\miniconda3\\lib\\site-packages (0.9.2)\n",
      "Requirement already satisfied: joblib>=0.14 in c:\\users\\admin\\miniconda3\\lib\\site-packages (from librosa) (1.1.0)\n",
      "Requirement already satisfied: packaging>=20.0 in c:\\users\\admin\\miniconda3\\lib\\site-packages (from librosa) (21.3)\n",
      "Requirement already satisfied: numpy>=1.17.0 in c:\\users\\admin\\miniconda3\\lib\\site-packages (from librosa) (1.22.4)\n",
      "Requirement already satisfied: numba>=0.45.1 in c:\\users\\admin\\miniconda3\\lib\\site-packages (from librosa) (0.56.0)\n",
      "Requirement already satisfied: scikit-learn>=0.19.1 in c:\\users\\admin\\miniconda3\\lib\\site-packages (from librosa) (1.1.1)\n",
      "Requirement already satisfied: resampy>=0.2.2 in c:\\users\\admin\\miniconda3\\lib\\site-packages (from librosa) (0.3.1)\n",
      "Requirement already satisfied: audioread>=2.1.9 in c:\\users\\admin\\miniconda3\\lib\\site-packages (from librosa) (2.1.9)\n",
      "Requirement already satisfied: decorator>=4.0.10 in c:\\users\\admin\\miniconda3\\lib\\site-packages (from librosa) (5.1.1)\n",
      "Requirement already satisfied: soundfile>=0.10.2 in c:\\users\\admin\\miniconda3\\lib\\site-packages (from librosa) (0.10.3.post1)\n",
      "Requirement already satisfied: scipy>=1.2.0 in c:\\users\\admin\\miniconda3\\lib\\site-packages (from librosa) (1.8.1)\n",
      "Requirement already satisfied: pooch>=1.0 in c:\\users\\admin\\miniconda3\\lib\\site-packages (from librosa) (1.6.0)\n",
      "Requirement already satisfied: llvmlite<0.40,>=0.39.0dev0 in c:\\users\\admin\\miniconda3\\lib\\site-packages (from numba>=0.45.1->librosa) (0.39.0)\n",
      "Requirement already satisfied: setuptools in c:\\users\\admin\\miniconda3\\lib\\site-packages (from numba>=0.45.1->librosa) (61.2.0)\n",
      "Requirement already satisfied: pyparsing!=3.0.5,>=2.0.2 in c:\\users\\admin\\miniconda3\\lib\\site-packages (from packaging>=20.0->librosa) (3.0.4)\n",
      "Requirement already satisfied: requests>=2.19.0 in c:\\users\\admin\\miniconda3\\lib\\site-packages (from pooch>=1.0->librosa) (2.27.1)\n",
      "Requirement already satisfied: appdirs>=1.3.0 in c:\\users\\admin\\miniconda3\\lib\\site-packages (from pooch>=1.0->librosa) (1.4.4)\n",
      "Requirement already satisfied: idna<4,>=2.5 in c:\\users\\admin\\miniconda3\\lib\\site-packages (from requests>=2.19.0->pooch>=1.0->librosa) (3.3)\n",
      "Requirement already satisfied: charset-normalizer~=2.0.0 in c:\\users\\admin\\miniconda3\\lib\\site-packages (from requests>=2.19.0->pooch>=1.0->librosa) (2.0.4)\n",
      "Requirement already satisfied: urllib3<1.27,>=1.21.1 in c:\\users\\admin\\miniconda3\\lib\\site-packages (from requests>=2.19.0->pooch>=1.0->librosa) (1.26.8)\n",
      "Requirement already satisfied: certifi>=2017.4.17 in c:\\users\\admin\\miniconda3\\lib\\site-packages (from requests>=2.19.0->pooch>=1.0->librosa) (2022.6.15)\n",
      "Requirement already satisfied: threadpoolctl>=2.0.0 in c:\\users\\admin\\miniconda3\\lib\\site-packages (from scikit-learn>=0.19.1->librosa) (3.1.0)\n",
      "Requirement already satisfied: cffi>=1.0 in c:\\users\\admin\\miniconda3\\lib\\site-packages (from soundfile>=0.10.2->librosa) (1.15.0)\n",
      "Requirement already satisfied: pycparser in c:\\users\\admin\\miniconda3\\lib\\site-packages (from cffi>=1.0->soundfile>=0.10.2->librosa) (2.21)\n",
      "Requirement already satisfied: pretty_midi in c:\\users\\admin\\miniconda3\\lib\\site-packages (0.2.9)\n",
      "Requirement already satisfied: six in c:\\users\\admin\\miniconda3\\lib\\site-packages (from pretty_midi) (1.16.0)\n",
      "Requirement already satisfied: numpy>=1.7.0 in c:\\users\\admin\\miniconda3\\lib\\site-packages (from pretty_midi) (1.22.4)\n",
      "Requirement already satisfied: mido>=1.1.16 in c:\\users\\admin\\miniconda3\\lib\\site-packages (from pretty_midi) (1.2.10)\n",
      "Requirement already satisfied: pypianoroll in c:\\users\\admin\\miniconda3\\lib\\site-packages (1.0.4)\n",
      "Requirement already satisfied: scipy>=1.0.0 in c:\\users\\admin\\miniconda3\\lib\\site-packages (from pypianoroll) (1.8.1)\n",
      "Requirement already satisfied: pretty-midi>=0.2.8 in c:\\users\\admin\\miniconda3\\lib\\site-packages (from pypianoroll) (0.2.9)\n",
      "Requirement already satisfied: numpy>=1.12.0 in c:\\users\\admin\\miniconda3\\lib\\site-packages (from pypianoroll) (1.22.4)\n",
      "Requirement already satisfied: matplotlib>=1.5 in c:\\users\\admin\\miniconda3\\lib\\site-packages (from pypianoroll) (3.5.2)\n",
      "Requirement already satisfied: python-dateutil>=2.7 in c:\\users\\admin\\miniconda3\\lib\\site-packages (from matplotlib>=1.5->pypianoroll) (2.8.2)\n",
      "Requirement already satisfied: pillow>=6.2.0 in c:\\users\\admin\\miniconda3\\lib\\site-packages (from matplotlib>=1.5->pypianoroll) (9.2.0)\n",
      "Requirement already satisfied: pyparsing>=2.2.1 in c:\\users\\admin\\miniconda3\\lib\\site-packages (from matplotlib>=1.5->pypianoroll) (3.0.4)\n",
      "Requirement already satisfied: kiwisolver>=1.0.1 in c:\\users\\admin\\miniconda3\\lib\\site-packages (from matplotlib>=1.5->pypianoroll) (1.4.4)\n",
      "Requirement already satisfied: fonttools>=4.22.0 in c:\\users\\admin\\miniconda3\\lib\\site-packages (from matplotlib>=1.5->pypianoroll) (4.34.4)\n",
      "Requirement already satisfied: packaging>=20.0 in c:\\users\\admin\\miniconda3\\lib\\site-packages (from matplotlib>=1.5->pypianoroll) (21.3)\n",
      "Requirement already satisfied: cycler>=0.10 in c:\\users\\admin\\miniconda3\\lib\\site-packages (from matplotlib>=1.5->pypianoroll) (0.11.0)\n",
      "Requirement already satisfied: six in c:\\users\\admin\\miniconda3\\lib\\site-packages (from pretty-midi>=0.2.8->pypianoroll) (1.16.0)\n",
      "Requirement already satisfied: mido>=1.1.16 in c:\\users\\admin\\miniconda3\\lib\\site-packages (from pretty-midi>=0.2.8->pypianoroll) (1.2.10)\n",
      "Requirement already satisfied: mpld3 in c:\\users\\admin\\miniconda3\\lib\\site-packages (0.5.8)\n",
      "Requirement already satisfied: matplotlib in c:\\users\\admin\\miniconda3\\lib\\site-packages (from mpld3) (3.5.2)\n",
      "Requirement already satisfied: jinja2 in c:\\users\\admin\\miniconda3\\lib\\site-packages (from mpld3) (3.0.3)\n",
      "Requirement already satisfied: MarkupSafe>=2.0 in c:\\users\\admin\\miniconda3\\lib\\site-packages (from jinja2->mpld3) (2.1.1)\n",
      "Requirement already satisfied: kiwisolver>=1.0.1 in c:\\users\\admin\\miniconda3\\lib\\site-packages (from matplotlib->mpld3) (1.4.4)\n",
      "Requirement already satisfied: cycler>=0.10 in c:\\users\\admin\\miniconda3\\lib\\site-packages (from matplotlib->mpld3) (0.11.0)\n",
      "Requirement already satisfied: packaging>=20.0 in c:\\users\\admin\\miniconda3\\lib\\site-packages (from matplotlib->mpld3) (21.3)\n",
      "Requirement already satisfied: pillow>=6.2.0 in c:\\users\\admin\\miniconda3\\lib\\site-packages (from matplotlib->mpld3) (9.2.0)\n",
      "Requirement already satisfied: fonttools>=4.22.0 in c:\\users\\admin\\miniconda3\\lib\\site-packages (from matplotlib->mpld3) (4.34.4)\n",
      "Requirement already satisfied: numpy>=1.17 in c:\\users\\admin\\miniconda3\\lib\\site-packages (from matplotlib->mpld3) (1.22.4)\n",
      "Requirement already satisfied: pyparsing>=2.2.1 in c:\\users\\admin\\miniconda3\\lib\\site-packages (from matplotlib->mpld3) (3.0.4)\n",
      "Requirement already satisfied: python-dateutil>=2.7 in c:\\users\\admin\\miniconda3\\lib\\site-packages (from matplotlib->mpld3) (2.8.2)\n",
      "Requirement already satisfied: six>=1.5 in c:\\users\\admin\\miniconda3\\lib\\site-packages (from python-dateutil>=2.7->matplotlib->mpld3) (1.16.0)\n",
      "end of cell\n"
     ]
    }
   ],
   "source": [
    "import glob\n",
    "import os\n",
    "import time\n",
    "\n",
    "!pip install matplotlib\n",
    "import matplotlib.pyplot as plt\n",
    "!pip install numpy\n",
    "import numpy as np\n",
    "!pip install librosa\n",
    "import librosa\n",
    "import librosa.display\n",
    "!pip install pretty_midi\n",
    "import pretty_midi\n",
    "!pip install pypianoroll\n",
    "import pypianoroll\n",
    "from scipy.signal import hilbert\n",
    "from scipy.ndimage import median_filter\n",
    "!pip install mpld3\n",
    "import mpld3\n",
    "from mpld3 import plugins\n",
    "\n",
    "print(\"end of cell\")"
   ]
  },
  {
   "cell_type": "code",
   "execution_count": 17,
   "metadata": {},
   "outputs": [
    {
     "name": "stdout",
     "output_type": "stream",
     "text": [
      "Working dir :  C:\\Users\\admin\\Project\\MIDIconversion_marovany\\capteurs\n"
     ]
    }
   ],
   "source": [
    "# from google.colab import drive\n",
    "# drive.mount('/content/drive/', force_remount=True)\n",
    "\n",
    "# change path if necessary\n",
    "# os.chdir(\"/content/drive/My Drive/research/MIDIconversion_marovany\")\n",
    "\n",
    "# print('Working dir : ', os.getcwd())\n",
    "# os.chdir(\"..\")\n",
    "# print('Working dir : ', os.getcwd())\n",
    "# rel_dir = glob.glob('capteurs/*wav')\n",
    "# abs_dir = list(map(lambda p: os.getcwd() + p, rel_dir))\n",
    "# print(abs_dir)\n",
    "os.chdir(\"C:/Users/admin/Project/MIDIconversion_marovany/capteurs/\")\n",
    "print('Working dir : ', os.getcwd())\n"
   ]
  },
  {
   "cell_type": "code",
   "execution_count": 18,
   "metadata": {
    "executionInfo": {
     "elapsed": 13,
     "status": "ok",
     "timestamp": 1658233140155,
     "user": {
      "displayName": "Dorian Cazau",
      "userId": "08552727308627398808"
     },
     "user_tz": -120
    },
    "id": "xNp-5RbLRbIT"
   },
   "outputs": [
    {
     "name": "stdout",
     "output_type": "stream",
     "text": [
      "end of cell\n"
     ]
    }
   ],
   "source": [
    "def estimate_note_pitch(y, onset_frames):\n",
    "  \"\"\"\n",
    "  Params :\n",
    "  \n",
    "  Return :\n",
    "  f0 : Fundamental frequency (np.ndarray)\n",
    "  times : array of time values\n",
    "  single_f0_estimation : median of f0 list\n",
    "  \"\"\"\n",
    "  f0, voiced_flag, voiced_probs = librosa.pyin(y, fmin=librosa.note_to_hz('C1'),\n",
    "                                              fmax=librosa.note_to_hz('C7'))\n",
    "  times = librosa.times_like(f0)\n",
    "  list_f0 = []\n",
    "  for ll in onset_frames:\n",
    "    list_f0.append(list(f0[ ll - 5 : ll+5]))\n",
    "  single_f0_estimation = np.nanmedian(np.concatenate(list_f0, axis=0))\n",
    "  return single_f0_estimation, f0, times\n",
    "\n",
    "\n",
    "def onset_detection(y, sr, delta=0.5):\n",
    "  \"\"\"\n",
    "  Params :\n",
    "  \n",
    "  Return :\n",
    "  o_env : onset strenght envelop\n",
    "  times : ndarray of time values (in seconds) to match the time axis from a feature matrix\n",
    "  onset_frames : ndarray of note onset events\n",
    "  \"\"\"\n",
    "  o_env = librosa.onset.onset_strength(y=y, sr=sr)\n",
    "  times = librosa.times_like(o_env, sr=sr)\n",
    "  onset_frames = librosa.onset.onset_detect(onset_envelope=o_env, sr=sr, \n",
    "                                            delta=delta, normalize=True)\n",
    "  return onset_frames, times, o_env\n",
    "\n",
    "\n",
    "def plot_onsets_and_pitch_detection(figsize, times, f0, o_env, onset_frames):\n",
    "  plt.rcParams['figure.figsize'] = figsize\n",
    "  fig, ax = plt.subplots(nrows=2, sharex=True)\n",
    "  S_db = librosa.amplitude_to_db(np.abs(librosa.stft(y)), ref=np.max)\n",
    "  librosa.display.specshow(S_db, x_coords=times, y_axis='log', ax=ax[0])\n",
    "  ax[0].plot(times, f0, label='f0', color='cyan', linewidth=3)\n",
    "  ax[0].legend(loc='upper right')\n",
    "  \n",
    "  ax[1].plot(times, o_env, label='Onset strength')\n",
    "  ax[1].vlines(times[onset_frames], 0, o_env.max(), color='r', \n",
    "                alpha=0.9, linestyle='--', label='Onsets')\n",
    "  ax[1].legend()\n",
    "  plt.show()\n",
    "\n",
    "\n",
    "# def add_detected_notes_to_instrument(times, onset_frames, MIDInote, duration):\n",
    "#   for ll in times[onset_frames]: # onset_frames entry in times ?\n",
    "#     # Create a Note instance for each detected note\n",
    "#     note = pretty_midi.Note(velocity=100, pitch=round(MIDInote), \n",
    "#                             start=ll, end=ll+duration)\n",
    "#     # Add it to our instrument\n",
    "#     banjo_instrument.notes.append(note)\n",
    "\n",
    "\n",
    "print(\"end of cell\")"
   ]
  },
  {
   "cell_type": "code",
   "execution_count": 22,
   "metadata": {
    "colab": {
     "base_uri": "https://localhost:8080/",
     "height": 1000,
     "output_embedded_package_id": "1usxvC_1gL7Kpb6h4xz85boJLLCP_RR-A"
    },
    "executionInfo": {
     "elapsed": 31652,
     "status": "ok",
     "timestamp": 1658233231062,
     "user": {
      "displayName": "Dorian Cazau",
      "userId": "08552727308627398808"
     },
     "user_tz": -120
    },
    "id": "tYP7n4SOMCZi",
    "outputId": "a96ab582-1f1a-488e-eaad-6ee92ce3ea3e"
   },
   "outputs": [
    {
     "name": "stdout",
     "output_type": "stream",
     "text": [
      "end of cell\n"
     ]
    }
   ],
   "source": [
    "do_plot = True\n",
    "duration = 0.5\n",
    "verbose = True\n",
    "delta = [0.4, 0.4]\n",
    "list_notes = []\n",
    "# Create a PrettyMIDI object\n",
    "prettyMIDI = pretty_midi.PrettyMIDI()\n",
    "# Create an Instrument instance for a banjo instrument\n",
    "banjo_program = pretty_midi.instrument_name_to_program('Banjo')\n",
    "banjo_instrument = pretty_midi.Instrument(program=banjo_program)\n",
    "ct = 0\n",
    "\n",
    "for wav_file in glob.glob('capteurs/*wav'):\n",
    "  if verbose:\n",
    "    print('\\n Now processing file', wav_file)\n",
    "\n",
    "  # audio data loading\n",
    "  \"\"\"\n",
    "  sr : sampling rate\n",
    "  y : audio time series (np.ndarray)\n",
    "  \"\"\"\n",
    "  y, sr = librosa.load(wav_file, offset=4, duration=20)\n",
    "\n",
    "  # onset detection \n",
    "  onset_frames, times, o_env = onset_detection(y, sr, delta[ct])\n",
    "\n",
    "  if verbose:\n",
    "    print('--> found', len(onset_frames), 'notes')\n",
    "\n",
    "  if len(list_notes)==0:  # should always be empty\n",
    "    # pitch estimation\n",
    "    single_f0_estimation, f0, times = estimate_note_pitch(y, onset_frames)\n",
    "    MIDInote = pretty_midi.hz_to_note_number(single_f0_estimation)\n",
    "    if verbose:\n",
    "      print('--> found a pitch of', single_f0_estimation, \n",
    "            '(Hz), i.e. a', pretty_midi.note_number_to_name(MIDInote))    \n",
    "  else:\n",
    "    MIDInote = pretty_midi.note_name_to_number(list_notes[ct])\n",
    "\n",
    "  # def add_detected_notes_to_instrument(times, onset_frames, MIDInote, duration):\n",
    "  for ll in times[onset_frames]: # onset_frames entry in times ?\n",
    "    # Create a Note instance for each detected note\n",
    "    note = pretty_midi.Note(velocity=100, pitch=round(MIDInote), \n",
    "                            start=ll, end=ll+duration)\n",
    "    # Add it to our instrument\n",
    "    banjo_instrument.notes.append(note)\n",
    "  # add_detected_notes_to_instrument()\n",
    "\n",
    "  # plot onsets and pitch detection\n",
    "  if do_plot:\n",
    "    plot_onsets_and_pitch_detection(figsize=[28, 20], times=times, f0=f0, \n",
    "                                    o_env=o_env, onset_frames=onset_frames)\n",
    "\n",
    "  ct+=1\n",
    "\n",
    "# Add the cello instrument to the PrettyMIDI object\n",
    "prettyMIDI.instruments.append(banjo_instrument)\n",
    "\n",
    "# Write out the MIDI data\n",
    "prettyMIDI.write('marovany.mid')\n",
    "\n",
    "# multitrack = pypianoroll.read(\"marovany.mid\")\n",
    "# multitrack.plot()\n",
    "print(\"end of cell\")"
   ]
  },
  {
   "cell_type": "markdown",
   "metadata": {
    "id": "8z9qW3tXQ4os"
   },
   "source": [
    "Sources\n",
    "\n",
    "- https://github.com/craffel/pretty-midi\n",
    "- https://librosa.org/doc/latest/index.html"
   ]
  },
  {
   "cell_type": "code",
   "execution_count": null,
   "metadata": {
    "executionInfo": {
     "elapsed": 329,
     "status": "aborted",
     "timestamp": 1658233140474,
     "user": {
      "displayName": "Dorian Cazau",
      "userId": "08552727308627398808"
     },
     "user_tz": -120
    },
    "id": "lfe8OSa9HCpa"
   },
   "outputs": [],
   "source": [
    "import sys\n",
    "\n",
    "sys.exit()"
   ]
  }
 ],
 "metadata": {
  "colab": {
   "authorship_tag": "ABX9TyPZlJG7h9rkj3ZAyKjaUJud",
   "collapsed_sections": [],
   "name": "main.ipynb",
   "provenance": []
  },
  "kernelspec": {
   "display_name": "Python 3 (ipykernel)",
   "language": "python",
   "name": "python3"
  },
  "language_info": {
   "codemirror_mode": {
    "name": "ipython",
    "version": 3
   },
   "file_extension": ".py",
   "mimetype": "text/x-python",
   "name": "python",
   "nbconvert_exporter": "python",
   "pygments_lexer": "ipython3",
   "version": "3.9.12"
  }
 },
 "nbformat": 4,
 "nbformat_minor": 1
}
